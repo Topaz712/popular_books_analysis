{
 "cells": [
  {
   "cell_type": "code",
   "execution_count": 16,
   "id": "c39368df",
   "metadata": {},
   "outputs": [],
   "source": [
    "import requests\n",
    "import json"
   ]
  },
  {
   "cell_type": "code",
   "execution_count": 17,
   "id": "91aed66c",
   "metadata": {},
   "outputs": [],
   "source": [
    "query = \"fiction\"\n",
    "api_url = f\"https://www.googleapis.com/books/v1/volumes?q={query}&maxResults=5\""
   ]
  },
  {
   "cell_type": "code",
   "execution_count": 18,
   "id": "c44667a0",
   "metadata": {},
   "outputs": [
    {
     "name": "stdout",
     "output_type": "stream",
     "text": [
      "Book Title: When We Were Animals\n",
      "Authors: Joshua Gaylord\n",
      "\n",
      "Book Title: White Tiger on Snow Mountain\n",
      "Authors: David Gordon\n",
      "\n",
      "Book Title: Send for Me: A Read with Jenna Pick\n",
      "Authors: Lauren Fox\n",
      "\n",
      "Book Title: A Closed and Common Orbit\n",
      "Authors: Becky Chambers\n",
      "\n",
      "Book Title: Get to the Point!\n",
      "Authors: Joel Schwartzberg\n",
      "\n"
     ]
    }
   ],
   "source": [
    "# GET request for google books api \n",
    "# convert raw data received into dictionary\n",
    "\n",
    "response = requests.get(api_url)\n",
    "\n",
    "if response.status_code == 200:\n",
    "    data = response.json()\n",
    "    books = data.get(\"items\", [])\n",
    "    for book in books:\n",
    "        book_info = book.get(\"volumeInfo\", {})\n",
    "        title = book_info.get(\"title\", \"N/A\") # if data missing, substitute\n",
    "        authors = book_info.get(\"authors\", [\"Unknown\"])\n",
    "        print(f\"Book Title: {title}\")\n",
    "        print(f\"Authors: {', '.join(authors)}\\n\")\n",
    "else:\n",
    "    print(f\"Error: {response.status_code}\")"
   ]
  },
  {
   "cell_type": "code",
   "execution_count": null,
   "id": "8e0e34ff",
   "metadata": {},
   "outputs": [],
   "source": []
  }
 ],
 "metadata": {
  "kernelspec": {
   "display_name": "Python 3",
   "language": "python",
   "name": "python3"
  },
  "language_info": {
   "codemirror_mode": {
    "name": "ipython",
    "version": 3
   },
   "file_extension": ".py",
   "mimetype": "text/x-python",
   "name": "python",
   "nbconvert_exporter": "python",
   "pygments_lexer": "ipython3",
   "version": "3.12.7"
  }
 },
 "nbformat": 4,
 "nbformat_minor": 5
}
